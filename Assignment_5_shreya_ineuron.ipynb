{
 "cells": [
  {
   "cell_type": "markdown",
   "id": "56402302",
   "metadata": {},
   "source": [
    "**1. What does an empty dictionary's code look like?**\n",
    "\n",
    "d = { } or d = dict( )"
   ]
  },
  {
   "cell_type": "markdown",
   "id": "e2cbef1e",
   "metadata": {},
   "source": [
    "**2. What is the value of a dictionary value with the key 'foo' and the value 42?**\n",
    "\n",
    "{ 'foo' : 42 }"
   ]
  },
  {
   "cell_type": "markdown",
   "id": "71b0b2ef",
   "metadata": {},
   "source": [
    "**3. What is the most significant distinction between a dictionary and a list?**\n",
    "\n",
    "The items stored in a dictionary are unordered whereas the items stored in a list are ordered in nature."
   ]
  },
  {
   "cell_type": "markdown",
   "id": "9e278dd1",
   "metadata": {},
   "source": [
    "**4. What happens if you try to access spam['foo'] if spam is {'bar': 100}?**\n",
    "\n",
    "You are most certainly to get a key error <br>\n",
    "KeyError : 'foo'"
   ]
  },
  {
   "cell_type": "markdown",
   "id": "a4979ad3",
   "metadata": {},
   "source": [
    "**5. If a dictionary is stored in spam, what is the difference between the expressions 'cat' in spam and 'cat' in spam.keys()?**\n",
    "\n",
    "There is no difference. Both will check whether there exists a value as a key in the dictionary."
   ]
  },
  {
   "cell_type": "markdown",
   "id": "dd54c568",
   "metadata": {},
   "source": [
    "**6. If a dictionary is stored in spam, what is the difference between the expressions 'cat' in spam and 'cat' in spam.values()?**\n",
    "\n",
    "'cat' in spam checks whether there exists a 'cat' key in the dictionary whereas 'cat' in spam.values( ) checks whether there is a value 'cat' for one of the keys in spam."
   ]
  },
  {
   "cell_type": "markdown",
   "id": "686d24b1",
   "metadata": {},
   "source": [
    "**7. What is a shortcut for the following code? <br>\n",
    "if 'color' not in spam: <br>\n",
    "spam['color'] = 'black'** <br>\n",
    "\n",
    "spam.setdefault( 'color' , 'black' )\n"
   ]
  },
  {
   "cell_type": "markdown",
   "id": "ec266149",
   "metadata": {},
   "source": [
    "**8. How do you \"pretty print\" dictionary values using which module and function?**\n",
    "\n",
    "We can use the pprint module and within this module there is a function with the same name i.e. pprint which is used to pretty print the given object or string."
   ]
  },
  {
   "cell_type": "code",
   "execution_count": 1,
   "id": "fa57c865",
   "metadata": {},
   "outputs": [
    {
     "name": "stdout",
     "output_type": "stream",
     "text": [
      "[{'BRAND': 'Nykaa', 'COUNTRY': 'India', 'PRODUCT': 'Cosmetics'},\n",
      " {'BRAND': 'Veromoda', 'COUNTRY': 'Denmark', 'PRODUCT': 'Fashion_Wear'},\n",
      " {'BRAND': 'Superdry', 'COUNTRY': 'England', 'PRODUCT': 'Fashion_Wear'}]\n"
     ]
    }
   ],
   "source": [
    "#for example :-\n",
    "import pprint\n",
    "\n",
    "dict_1 = [{\"BRAND\" : 'Nykaa', \"PRODUCT\" : \"Cosmetics\", \"COUNTRY\" : \"India\" },\n",
    "          {\"BRAND\" : \"Veromoda\", \"PRODUCT\" : \"Fashion_Wear\", \"COUNTRY\" : \"Denmark\"},\n",
    "          {\"BRAND\" : \"Superdry\", \"PRODUCT\" : \"Fashion_Wear\", \"COUNTRY\" : \"England\"}\n",
    "         ]\n",
    "pprint.pprint(dict_1)"
   ]
  }
 ],
 "metadata": {
  "kernelspec": {
   "display_name": "Python 3 (ipykernel)",
   "language": "python",
   "name": "python3"
  },
  "language_info": {
   "codemirror_mode": {
    "name": "ipython",
    "version": 3
   },
   "file_extension": ".py",
   "mimetype": "text/x-python",
   "name": "python",
   "nbconvert_exporter": "python",
   "pygments_lexer": "ipython3",
   "version": "3.9.7"
  }
 },
 "nbformat": 4,
 "nbformat_minor": 5
}
